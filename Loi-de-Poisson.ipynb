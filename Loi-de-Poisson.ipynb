{
 "cells": [
  {
   "cell_type": "markdown",
   "metadata": {},
   "source": [
    "# La loi de poisson "
   ]
  },
  {
   "cell_type": "markdown",
   "metadata": {},
   "source": [
    "Utilisée pour modéliser les événements râres qui font intervenir l'élément du temps, cette loi est aussi la limite de la loi binomiale quand il ya un grand nombre d'experience."
   ]
  },
  {
   "cell_type": "markdown",
   "metadata": {},
   "source": [
    "## Import de la bibliothèque"
   ]
  },
  {
   "cell_type": "code",
   "execution_count": 1,
   "metadata": {},
   "outputs": [],
   "source": [
    "import math"
   ]
  },
  {
   "cell_type": "markdown",
   "metadata": {},
   "source": [
    "## Definir Lambda = n*p"
   ]
  },
  {
   "cell_type": "code",
   "execution_count": 2,
   "metadata": {},
   "outputs": [],
   "source": [
    "lamda = 1000*0.05   # lambda = n*p"
   ]
  },
  {
   "cell_type": "markdown",
   "metadata": {},
   "source": [
    "## Definir la loi de Poisson "
   ]
  },
  {
   "cell_type": "code",
   "execution_count": 3,
   "metadata": {},
   "outputs": [],
   "source": [
    "def Loi_de_Poisson(k):\n",
    "    return (math.exp(-lamda) * lamda**k) / math.factorial(k)\n"
   ]
  },
  {
   "cell_type": "markdown",
   "metadata": {},
   "source": [
    "**p(X=0)**\n",
    "\n",
    "\n",
    "**p(X=1)**\n",
    "\n",
    "\n",
    "**p(X=2)**\n",
    "\n",
    "\n",
    "**p(X=3)**\n",
    "\n",
    "\n",
    ".\n",
    "\n",
    "\n",
    ".\n",
    "\n",
    "\n",
    ".\n"
   ]
  },
  {
   "cell_type": "code",
   "execution_count": 5,
   "metadata": {},
   "outputs": [
    {
     "name": "stdout",
     "output_type": "stream",
     "text": [
      "P[X = 0] = 1.9287498479639178e-22\n",
      "P[X = 1] = 9.643749239819589e-21\n",
      "P[X = 2] = 2.410937309954897e-19\n",
      "P[X = 3] = 4.0182288499248284e-18\n",
      "P[X = 4] = 5.0227860624060363e-17\n",
      "P[X = 5] = 5.022786062406036e-16\n",
      "P[X = 6] = 4.18565505200503e-15\n",
      "P[X = 7] = 2.9897536085750215e-14\n",
      "P[X = 8] = 1.8685960053593884e-13\n",
      "P[X = 9] = 1.0381088918663269e-12\n"
     ]
    }
   ],
   "source": [
    "probabilite = [Loi_de_Poisson(k) for k in range(10)]\n",
    "for k, prob in enumerate(probabilite):\n",
    "    print(f\"P[X = {k}] = {prob}\")"
   ]
  },
  {
   "cell_type": "markdown",
   "metadata": {},
   "source": [
    "## P ( X> T )"
   ]
  },
  {
   "cell_type": "code",
   "execution_count": 14,
   "metadata": {},
   "outputs": [
    {
     "name": "stdout",
     "output_type": "stream",
     "text": [
      "Probabilité qu'il y ai au moins 2  : 1.0\n"
     ]
    }
   ],
   "source": [
    "T=2\n",
    "probabilite_au_moin_T = 1 - sum(probabilite[0:T])\n",
    "print(f\"Probabilité qu'il y ai au moins {T}  : {probabilite_au_moin_T }\")"
   ]
  },
  {
   "cell_type": "markdown",
   "metadata": {},
   "source": [
    "## P ( X = T )"
   ]
  },
  {
   "cell_type": "code",
   "execution_count": 8,
   "metadata": {},
   "outputs": [
    {
     "name": "stdout",
     "output_type": "stream",
     "text": [
      "Probabilité qu'il y ai 2  : 2.410937309954897e-19\n"
     ]
    }
   ],
   "source": [
    "T=2\n",
    "probabilite_T = Loi_de_Poisson(T)\n",
    "print(f\"Probabilité qu'il y ai {T}  : {probabilite_T}\")"
   ]
  },
  {
   "cell_type": "markdown",
   "metadata": {},
   "source": [
    "## P ( X<= T)"
   ]
  },
  {
   "cell_type": "code",
   "execution_count": 9,
   "metadata": {},
   "outputs": [
    {
     "name": "stdout",
     "output_type": "stream",
     "text": [
      "Probabilité qu'il y ai au plus 2  : 1.9287498479639178e-22\n"
     ]
    }
   ],
   "source": [
    "T=2\n",
    "probabilite_au_plus_T = sum(probabilite[0:T-1])\n",
    "print(f\"Probabilité qu'il y ai au plus {T}  : {probabilite_au_plus_T}\")"
   ]
  },
  {
   "cell_type": "markdown",
   "metadata": {},
   "source": [
    "## Esperance E[Y]=n*p"
   ]
  },
  {
   "cell_type": "code",
   "execution_count": 12,
   "metadata": {},
   "outputs": [
    {
     "data": {
      "text/plain": [
       "50.0"
      ]
     },
     "execution_count": 12,
     "metadata": {},
     "output_type": "execute_result"
    }
   ],
   "source": [
    "E = lamda\n",
    "E"
   ]
  },
  {
   "cell_type": "markdown",
   "metadata": {},
   "source": [
    "## Variance Var(Y)=np"
   ]
  },
  {
   "cell_type": "code",
   "execution_count": 13,
   "metadata": {},
   "outputs": [
    {
     "data": {
      "text/plain": [
       "50.0"
      ]
     },
     "execution_count": 13,
     "metadata": {},
     "output_type": "execute_result"
    }
   ],
   "source": [
    "var = lamda\n",
    "var"
   ]
  }
 ],
 "metadata": {
  "kernelspec": {
   "display_name": "base",
   "language": "python",
   "name": "python3"
  },
  "language_info": {
   "codemirror_mode": {
    "name": "ipython",
    "version": 3
   },
   "file_extension": ".py",
   "mimetype": "text/x-python",
   "name": "python",
   "nbconvert_exporter": "python",
   "pygments_lexer": "ipython3",
   "version": "3.11.4"
  }
 },
 "nbformat": 4,
 "nbformat_minor": 2
}
