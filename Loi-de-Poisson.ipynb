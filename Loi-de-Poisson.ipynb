{
 "cells": [
  {
   "cell_type": "markdown",
   "metadata": {},
   "source": [
    "# La loi de poisson "
   ]
  },
  {
   "cell_type": "markdown",
   "metadata": {},
   "source": [
    "Utilisée pour modéliser les événements râres qui font intervenir l'élément du temps, cette loi est aussi la limite de la loi binomiale quand il ya un grand nombre d'experience."
   ]
  },
  {
   "cell_type": "markdown",
   "metadata": {},
   "source": [
    "## Import de la bibliothèque"
   ]
  },
  {
   "cell_type": "code",
   "execution_count": 15,
   "metadata": {},
   "outputs": [],
   "source": [
    "import math"
   ]
  },
  {
   "cell_type": "markdown",
   "metadata": {},
   "source": [
    "## Definir Lambda = n*p"
   ]
  },
  {
   "cell_type": "code",
   "execution_count": 16,
   "metadata": {},
   "outputs": [],
   "source": [
    "lamda = 1000*0.05   # lambda = n*p"
   ]
  },
  {
   "cell_type": "markdown",
   "metadata": {},
   "source": [
    "## Definir la loi de Poisson "
   ]
  },
  {
   "cell_type": "code",
   "execution_count": 17,
   "metadata": {},
   "outputs": [],
   "source": [
    "def Loi_de_Poisson(k):\n",
    "    return (math.exp(-lamda) * lamda**k) / math.factorial(k)\n"
   ]
  },
  {
   "cell_type": "markdown",
   "metadata": {},
   "source": [
    "**p(X=0)**\n",
    "\n",
    "\n",
    "**p(X=1)**\n",
    "\n",
    "\n",
    "**p(X=2)**\n",
    "\n",
    "\n",
    "**p(X=3)**\n",
    "\n",
    "\n",
    ".\n",
    "\n",
    "\n",
    ".\n",
    "\n",
    "\n",
    ".\n"
   ]
  },
  {
   "cell_type": "code",
   "execution_count": 23,
   "metadata": {},
   "outputs": [
    {
     "name": "stdout",
     "output_type": "stream",
     "text": [
      "P[X = 0] = 1.9287498479639178e-22\n",
      "P[X = 1] = 9.643749239819589e-21\n",
      "P[X = 2] = 2.410937309954897e-19\n",
      "P[X = 3] = 4.0182288499248284e-18\n",
      "P[X = 4] = 5.0227860624060363e-17\n",
      "P[X = 5] = 5.022786062406036e-16\n",
      "P[X = 6] = 4.18565505200503e-15\n",
      "P[X = 7] = 2.9897536085750215e-14\n",
      "P[X = 8] = 1.8685960053593884e-13\n",
      "P[X = 9] = 1.0381088918663269e-12\n",
      "P[X = 10] = 5.190544459331635e-12\n",
      "P[X = 11] = 2.3593383906052882e-11\n",
      "P[X = 12] = 9.830576627522034e-11\n",
      "P[X = 13] = 3.780991010585398e-10\n",
      "P[X = 14] = 1.3503539323519277e-09\n",
      "P[X = 15] = 4.501179774506426e-09\n",
      "P[X = 16] = 1.4066186795332582e-08\n",
      "P[X = 17] = 4.137113763333112e-08\n",
      "P[X = 18] = 1.1491982675925313e-07\n",
      "P[X = 19] = 3.024205967348766e-07\n",
      "P[X = 20] = 7.560514918371915e-07\n",
      "P[X = 21] = 1.800122599612361e-06\n",
      "P[X = 22] = 4.0911877263917295e-06\n",
      "P[X = 23] = 8.89388636172115e-06\n",
      "P[X = 24] = 1.8528929920252397e-05\n",
      "P[X = 25] = 3.7057859840504794e-05\n",
      "P[X = 26] = 7.126511507789383e-05\n",
      "P[X = 27] = 0.00013197243532943304\n",
      "P[X = 28] = 0.00023566506308827327\n",
      "P[X = 29] = 0.00040631907429012633\n",
      "P[X = 30] = 0.0006771984571502105\n",
      "P[X = 31] = 0.0010922555760487268\n",
      "P[X = 32] = 0.0017066493375761354\n",
      "P[X = 33] = 0.0025858323296608114\n",
      "P[X = 34] = 0.003802694602442369\n",
      "P[X = 35] = 0.005432420860631957\n",
      "P[X = 36] = 0.007545028973099938\n",
      "P[X = 37] = 0.010195985098783701\n",
      "P[X = 38] = 0.013415769866820661\n",
      "P[X = 39] = 0.017199704957462383\n",
      "P[X = 40] = 0.021499631196827983\n",
      "P[X = 41] = 0.026219062435156076\n",
      "P[X = 42] = 0.031213169565661995\n",
      "P[X = 43] = 0.036294383215886045\n",
      "P[X = 44] = 0.041243617290779584\n",
      "P[X = 45] = 0.04582624143419955\n",
      "P[X = 46] = 0.049811131993695155\n",
      "P[X = 47] = 0.052990565950739525\n",
      "P[X = 48] = 0.05519850619868701\n",
      "P[X = 49] = 0.05632500632519082\n",
      "P[X = 50] = 0.05632500632519083\n",
      "P[X = 51] = 0.055220594436461594\n",
      "P[X = 52] = 0.05309672541967461\n",
      "P[X = 53] = 0.05009125039591945\n",
      "P[X = 54] = 0.046380787403629116\n",
      "P[X = 55] = 0.042164352185117375\n",
      "P[X = 56] = 0.037646743022426224\n",
      "P[X = 57] = 0.033023458791601956\n",
      "P[X = 58] = 0.02846849895827755\n",
      "P[X = 59] = 0.02412584657481148\n",
      "P[X = 60] = 0.020104872145676234\n",
      "P[X = 61] = 0.016479403398095272\n",
      "P[X = 62] = 0.013289841450076834\n",
      "P[X = 63] = 0.010547493214346693\n",
      "P[X = 64] = 0.008240229073708355\n",
      "P[X = 65] = 0.006338637749006427\n",
      "P[X = 66] = 0.0048019982947018385\n",
      "P[X = 67] = 0.0035835808169416704\n",
      "P[X = 68] = 0.002634985894810052\n",
      "P[X = 69] = 0.001909410068702936\n",
      "P[X = 70] = 0.0013638643347878114\n",
      "P[X = 71] = 0.0009604678413998672\n",
      "P[X = 72] = 0.0006669915565276856\n",
      "P[X = 73] = 0.00045684353186827774\n",
      "P[X = 74] = 0.0003086780620731607\n",
      "P[X = 75] = 0.00020578537471544042\n",
      "P[X = 76] = 0.0001353851149443687\n",
      "P[X = 77] = 8.791241230153812e-05\n",
      "P[X = 78] = 5.635411044970393e-05\n",
      "P[X = 79] = 3.566715851247084e-05\n",
      "P[X = 80] = 2.2291974070294277e-05\n",
      "P[X = 81] = 1.3760477821169305e-05\n",
      "P[X = 82] = 8.390535256810552e-06\n",
      "P[X = 83] = 5.054539311331658e-06\n",
      "P[X = 84] = 3.0086543519831293e-06\n",
      "P[X = 85] = 1.7697966776371351e-06\n",
      "P[X = 86] = 1.0289515567657763e-06\n",
      "P[X = 87] = 5.913514694056186e-07\n",
      "P[X = 88] = 3.3599515307137416e-07\n",
      "P[X = 89] = 1.8876132195021022e-07\n",
      "P[X = 90] = 1.0486740108345012e-07\n",
      "P[X = 91] = 5.761945114475282e-08\n",
      "P[X = 92] = 3.1314919100409135e-08\n",
      "P[X = 93] = 1.6835978010972652e-08\n",
      "P[X = 94] = 8.955307452645028e-09\n",
      "P[X = 95] = 4.713319711918437e-09\n",
      "P[X = 96] = 2.454854016624186e-09\n",
      "P[X = 97] = 1.265388668362982e-09\n",
      "P[X = 98] = 6.456064634505011e-10\n",
      "P[X = 99] = 3.26063870429546e-10\n"
     ]
    }
   ],
   "source": [
    "probabilite = [Loi_de_Poisson(k) for k in range(100)]\n",
    "for k, prob in enumerate(probabilite):\n",
    "    print(f\"P[X = {k}] = {prob}\")"
   ]
  },
  {
   "cell_type": "markdown",
   "metadata": {},
   "source": [
    "## P ( X>= T )"
   ]
  },
  {
   "cell_type": "code",
   "execution_count": 26,
   "metadata": {},
   "outputs": [
    {
     "name": "stdout",
     "output_type": "stream",
     "text": [
      "Probabilité qu'il y ai au moins 2  : 1.0\n"
     ]
    }
   ],
   "source": [
    "T=2\n",
    "probabilite_au_moin_T = 1 - sum(probabilite[0:T-1])\n",
    "print(f\"Probabilité qu'il y ai au moins {T}  : {probabilite_au_moin_T }\")"
   ]
  },
  {
   "cell_type": "markdown",
   "metadata": {},
   "source": [
    "## P ( X = T )"
   ]
  },
  {
   "cell_type": "code",
   "execution_count": 31,
   "metadata": {},
   "outputs": [
    {
     "name": "stdout",
     "output_type": "stream",
     "text": [
      "Probabilité qu'il y ai 2  : 2.410937309954897e-19\n"
     ]
    }
   ],
   "source": [
    "T=2\n",
    "probabilite_T = Loi_de_Poisson(T)\n",
    "print(f\"Probabilité qu'il y ai {T}  : {probabilite_T}\")"
   ]
  },
  {
   "cell_type": "markdown",
   "metadata": {},
   "source": [
    "## P ( X<= T)"
   ]
  },
  {
   "cell_type": "code",
   "execution_count": 32,
   "metadata": {},
   "outputs": [
    {
     "name": "stdout",
     "output_type": "stream",
     "text": [
      "Probabilité qu'il y ai au plus 2  : 1.9287498479639178e-22\n"
     ]
    }
   ],
   "source": [
    "T=2\n",
    "probabilite_au_plus_T = sum(probabilite[0:T-1])\n",
    "print(f\"Probabilité qu'il y ai au plus {T}  : {probabilite_au_plus_T}\")"
   ]
  }
 ],
 "metadata": {
  "kernelspec": {
   "display_name": "base",
   "language": "python",
   "name": "python3"
  },
  "language_info": {
   "codemirror_mode": {
    "name": "ipython",
    "version": 3
   },
   "file_extension": ".py",
   "mimetype": "text/x-python",
   "name": "python",
   "nbconvert_exporter": "python",
   "pygments_lexer": "ipython3",
   "version": "3.11.4"
  }
 },
 "nbformat": 4,
 "nbformat_minor": 2
}
