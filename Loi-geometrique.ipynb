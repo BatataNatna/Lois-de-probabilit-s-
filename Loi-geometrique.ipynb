{
 "cells": [
  {
   "cell_type": "markdown",
   "metadata": {},
   "source": [
    "# La Loi géométrique "
   ]
  },
  {
   "cell_type": "markdown",
   "metadata": {},
   "source": [
    "**Utilisée pour modéliser les echecs successifs ainsi que le premier succès inclus**\n",
    "\n"
   ]
  },
  {
   "cell_type": "markdown",
   "metadata": {},
   "source": [
    "## Charger les bibliothèques"
   ]
  },
  {
   "cell_type": "code",
   "execution_count": 1,
   "metadata": {},
   "outputs": [],
   "source": [
    "import math"
   ]
  },
  {
   "cell_type": "markdown",
   "metadata": {},
   "source": [
    "## Définir les paramètres de la loi G"
   ]
  },
  {
   "cell_type": "code",
   "execution_count": 10,
   "metadata": {},
   "outputs": [],
   "source": [
    "k = 5   # k-1 echecs et une victoire  k=1..n \n",
    "p = 0.04"
   ]
  },
  {
   "cell_type": "markdown",
   "metadata": {},
   "source": [
    "## définir la fonction de la loi G\n",
    "\n",
    "P[Y = k]=p(1-p)^(k-1)  \n"
   ]
  },
  {
   "cell_type": "code",
   "execution_count": 11,
   "metadata": {},
   "outputs": [],
   "source": [
    "def Loi_Geometrique(k,p):\n",
    "    return p*(1-p)**(k-1) "
   ]
  },
  {
   "cell_type": "markdown",
   "metadata": {},
   "source": [
    "## Calcul de probabilité"
   ]
  },
  {
   "cell_type": "code",
   "execution_count": 12,
   "metadata": {},
   "outputs": [
    {
     "name": "stdout",
     "output_type": "stream",
     "text": [
      "P[X = 1] = 0.04166666666666667\n",
      "P[X = 2] = 0.04\n",
      "P[X = 3] = 0.0384\n",
      "P[X = 4] = 0.036864\n",
      "P[X = 5] = 0.035389439999999994\n"
     ]
    }
   ],
   "source": [
    "probabilite = [Loi_Geometrique(k,p) for k in range(k)]\n",
    "for k, prob in enumerate(probabilite):\n",
    "    print(f\"P[X = {k+1}] = {prob}\")"
   ]
  },
  {
   "cell_type": "markdown",
   "metadata": {},
   "source": [
    "**P( Y = T)**"
   ]
  },
  {
   "cell_type": "code",
   "execution_count": 5,
   "metadata": {},
   "outputs": [
    {
     "name": "stdout",
     "output_type": "stream",
     "text": [
      "Probabilité qu'il y ai 2  : 0.25\n"
     ]
    }
   ],
   "source": [
    "T=2\n",
    "probabilite_T = Loi_Geometrique(T,p)\n",
    "print(f\"Probabilité qu'il y ai {T}  : {probabilite_T}\")"
   ]
  },
  {
   "cell_type": "markdown",
   "metadata": {},
   "source": [
    "**P( Y > T)**"
   ]
  },
  {
   "cell_type": "code",
   "execution_count": 6,
   "metadata": {},
   "outputs": [
    {
     "name": "stdout",
     "output_type": "stream",
     "text": [
      "Probabilité qu'il y ai au plus 1  : 1\n"
     ]
    }
   ],
   "source": [
    "T=1\n",
    "probabilite_au_moins_T = 1-sum(probabilite[0:T-1])\n",
    "print(f\"Probabilité qu'il y ai au plus {T}  : {probabilite_au_moins_T}\")"
   ]
  },
  {
   "cell_type": "markdown",
   "metadata": {},
   "source": [
    "**P( Y <= T)**"
   ]
  },
  {
   "cell_type": "code",
   "execution_count": 7,
   "metadata": {},
   "outputs": [
    {
     "name": "stdout",
     "output_type": "stream",
     "text": [
      "Probabilité qu'il y ai au plus 2  : 1.0\n"
     ]
    }
   ],
   "source": [
    "T=2\n",
    "probabilite_au_plus_T = sum(probabilite[0:T-1])\n",
    "print(f\"Probabilité qu'il y ai au plus {T}  : {probabilite_au_plus_T}\")"
   ]
  },
  {
   "cell_type": "markdown",
   "metadata": {},
   "source": [
    "## Calcul de l'esperance E[Y]\n",
    "\n",
    "\n",
    "E[Y]=1/p"
   ]
  },
  {
   "cell_type": "code",
   "execution_count": 8,
   "metadata": {},
   "outputs": [
    {
     "data": {
      "text/plain": [
       "2.0"
      ]
     },
     "execution_count": 8,
     "metadata": {},
     "output_type": "execute_result"
    }
   ],
   "source": [
    "E = 1/p\n",
    "E"
   ]
  },
  {
   "cell_type": "markdown",
   "metadata": {},
   "source": [
    "## Calcul de la variance \n",
    "\n",
    "Var(Y)= (1-p)/p²"
   ]
  },
  {
   "cell_type": "code",
   "execution_count": 9,
   "metadata": {},
   "outputs": [
    {
     "data": {
      "text/plain": [
       "2.0"
      ]
     },
     "execution_count": 9,
     "metadata": {},
     "output_type": "execute_result"
    }
   ],
   "source": [
    "Var = (1-p)/p**2\n",
    "Var"
   ]
  }
 ],
 "metadata": {
  "kernelspec": {
   "display_name": "base",
   "language": "python",
   "name": "python3"
  },
  "language_info": {
   "codemirror_mode": {
    "name": "ipython",
    "version": 3
   },
   "file_extension": ".py",
   "mimetype": "text/x-python",
   "name": "python",
   "nbconvert_exporter": "python",
   "pygments_lexer": "ipython3",
   "version": "3.11.4"
  }
 },
 "nbformat": 4,
 "nbformat_minor": 2
}
