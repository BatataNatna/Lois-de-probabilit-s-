{
 "cells": [
  {
   "cell_type": "markdown",
   "metadata": {},
   "source": [
    "# La loi uniforme "
   ]
  },
  {
   "cell_type": "markdown",
   "metadata": {},
   "source": [
    "Une variable aléatoire suit la loi uniforme quand on a pas trop d'informations sur les probabilités on suppose alors que les chances sont équiprobables.\n",
    "\n",
    "Exemple d'éxperiance: lancer un dés."
   ]
  },
  {
   "cell_type": "markdown",
   "metadata": {},
   "source": [
    "## import des bibliothèques"
   ]
  },
  {
   "cell_type": "code",
   "execution_count": 1,
   "metadata": {},
   "outputs": [],
   "source": [
    "import math"
   ]
  },
  {
   "cell_type": "markdown",
   "metadata": {},
   "source": [
    "## Définir les paramètre de la loi uniforme "
   ]
  },
  {
   "cell_type": "code",
   "execution_count": 2,
   "metadata": {},
   "outputs": [],
   "source": [
    "n = 36 # le nombre de cas possibles i.e le cardinal de Omega "
   ]
  },
  {
   "cell_type": "markdown",
   "metadata": {},
   "source": [
    "## Définir la fonction de la loi uniforme"
   ]
  },
  {
   "cell_type": "code",
   "execution_count": 3,
   "metadata": {},
   "outputs": [],
   "source": [
    "def Loi_uniforme(k):\n",
    "    return 1/n\n"
   ]
  },
  {
   "cell_type": "markdown",
   "metadata": {},
   "source": [
    "**p(X=0)**\n",
    "\n",
    "\n",
    "**p(X=1)**\n",
    "\n",
    "\n",
    "**p(X=2)**\n",
    "\n",
    "\n",
    "**p(X=3)**\n",
    "\n",
    "\n",
    ".\n",
    "\n",
    "\n",
    ".\n",
    "\n",
    "\n",
    ". "
   ]
  },
  {
   "cell_type": "code",
   "execution_count": 7,
   "metadata": {},
   "outputs": [
    {
     "name": "stdout",
     "output_type": "stream",
     "text": [
      "P[X = 0] = 0.027777777777777776\n",
      "P[X = 1] = 0.027777777777777776\n",
      "P[X = 2] = 0.027777777777777776\n",
      "P[X = 3] = 0.027777777777777776\n",
      "P[X = 4] = 0.027777777777777776\n",
      "P[X = 5] = 0.027777777777777776\n",
      "P[X = 6] = 0.027777777777777776\n",
      "P[X = 7] = 0.027777777777777776\n",
      "P[X = 8] = 0.027777777777777776\n",
      "P[X = 9] = 0.027777777777777776\n"
     ]
    }
   ],
   "source": [
    "probabilite = [Loi_uniforme(n) for k in range(10)] # elles sont équiprobables donc cette etape est un peu non necessaire  \n",
    "for k, prob in enumerate(probabilite):\n",
    "    print(f\"P[X = {k}] = {prob}\")"
   ]
  },
  {
   "cell_type": "markdown",
   "metadata": {},
   "source": [
    "## P( X> T)"
   ]
  },
  {
   "cell_type": "code",
   "execution_count": 8,
   "metadata": {},
   "outputs": [
    {
     "name": "stdout",
     "output_type": "stream",
     "text": [
      "Probabilité qu'il y ai au moins 2  : 0.9722222222222222\n"
     ]
    }
   ],
   "source": [
    "T=2\n",
    "probabilite_au_moin_T = 1 - sum(probabilite[0:T-1])\n",
    "print(f\"Probabilité qu'il y ai au moins {T}  : {probabilite_au_moin_T }\")"
   ]
  },
  {
   "cell_type": "markdown",
   "metadata": {},
   "source": [
    "## P( X=T )"
   ]
  },
  {
   "cell_type": "code",
   "execution_count": 11,
   "metadata": {},
   "outputs": [
    {
     "name": "stdout",
     "output_type": "stream",
     "text": [
      "Probabilité qu'il y ai au moins 2  : 0.027777777777777776\n"
     ]
    }
   ],
   "source": [
    "probabilite_T = probabilite[0] # Elles sont équiprobables\n",
    "print(f\"Probabilité qu'il y ai au moins {T}  : {probabilite_T }\")"
   ]
  },
  {
   "cell_type": "markdown",
   "metadata": {},
   "source": [
    "## P( X<= T)"
   ]
  },
  {
   "cell_type": "code",
   "execution_count": 13,
   "metadata": {},
   "outputs": [
    {
     "name": "stdout",
     "output_type": "stream",
     "text": [
      "Probabilité qu'il y ai au moins 2  : 0.9722222222222222\n"
     ]
    }
   ],
   "source": [
    "T=2\n",
    "probabilite_au_plus_T = 1 - sum(probabilite[0:T-1])\n",
    "print(f\"Probabilité qu'il y ai au moins {T}  : {probabilite_au_plus_T }\")"
   ]
  },
  {
   "cell_type": "markdown",
   "metadata": {},
   "source": [
    "## Espérance E[Y]=(n+1)/2"
   ]
  },
  {
   "cell_type": "code",
   "execution_count": 12,
   "metadata": {},
   "outputs": [
    {
     "data": {
      "text/plain": [
       "18.5"
      ]
     },
     "execution_count": 12,
     "metadata": {},
     "output_type": "execute_result"
    }
   ],
   "source": [
    "E = (n+1)/2\n",
    "E "
   ]
  },
  {
   "cell_type": "markdown",
   "metadata": {},
   "source": [
    "## Variance var(Y)=(n+1)*(n-1)/12"
   ]
  },
  {
   "cell_type": "code",
   "execution_count": 14,
   "metadata": {},
   "outputs": [
    {
     "data": {
      "text/plain": [
       "107.91666666666667"
      ]
     },
     "execution_count": 14,
     "metadata": {},
     "output_type": "execute_result"
    }
   ],
   "source": [
    "var = (n+1)*(n-1)/12 \n",
    "var "
   ]
  }
 ],
 "metadata": {
  "kernelspec": {
   "display_name": "base",
   "language": "python",
   "name": "python3"
  },
  "language_info": {
   "codemirror_mode": {
    "name": "ipython",
    "version": 3
   },
   "file_extension": ".py",
   "mimetype": "text/x-python",
   "name": "python",
   "nbconvert_exporter": "python",
   "pygments_lexer": "ipython3",
   "version": "3.11.4"
  }
 },
 "nbformat": 4,
 "nbformat_minor": 2
}
